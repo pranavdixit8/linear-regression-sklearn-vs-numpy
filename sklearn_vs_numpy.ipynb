{
 "cells": [
  {
   "cell_type": "markdown",
   "metadata": {},
   "source": [
    "# <u> Sklearn vs Numpy Linear Regression Implementation </u>\n",
    "\n",
    "\n",
    "## Comparing numpy implementation of Linear regression using Gradient Descent versus Sklearn:\n",
    "        \n",
    "\n",
    "        The idea of this project is to implement linear regression using gradient descent from scratch and\n",
    "        compare your implementation with pre-built libraries such as scikit-learn."
   ]
  },
  {
   "cell_type": "markdown",
   "metadata": {},
   "source": [
    "### Import the required libraries:"
   ]
  },
  {
   "cell_type": "code",
   "execution_count": 1,
   "metadata": {},
   "outputs": [],
   "source": [
    "%matplotlib inline\n",
    "import pandas as pd\n",
    "from sklearn import linear_model\n",
    "from numpy import *\n",
    "import matplotlib.pyplot as plt"
   ]
  },
  {
   "cell_type": "markdown",
   "metadata": {},
   "source": [
    "### Function for computing the squared mean error:"
   ]
  },
  {
   "cell_type": "code",
   "execution_count": 2,
   "metadata": {},
   "outputs": [],
   "source": [
    "def compute_squared_mean_error(b, m , bmi_life_data):\n",
    "    total_error = 0\n",
    "    Y = bmi_life_data[['Life expectancy']]\n",
    "    N = float(len(Y))\n",
    "    \n",
    "    for i in range(0, len(Y)):\n",
    "        x = bmi_life_data.loc[i, 'BMI']\n",
    "        y = bmi_life_data.loc[i,'Life expectancy']\n",
    "        total_error+=(y - (m*x + b))**2 \n",
    "    return total_error/N"
   ]
  },
  {
   "cell_type": "markdown",
   "metadata": {},
   "source": [
    "### Function for calculating step gradient descent, i.e. for 1 iteration : "
   ]
  },
  {
   "cell_type": "code",
   "execution_count": 3,
   "metadata": {},
   "outputs": [],
   "source": [
    "def step_gradient(current_m, current_b, bmi_life_data, learning_rate):\n",
    "    b_gradient = 0\n",
    "    m_gradient = 0\n",
    "    Y = bmi_life_data[['Life expectancy']]\n",
    "    N = float(len(Y))\n",
    "    for i in range (0,len(Y)):\n",
    "        x = bmi_life_data.loc[i, 'BMI']\n",
    "        y = bmi_life_data.loc[i,'Life expectancy']\n",
    "        b_gradient+= -(2/N) * ( y - (current_m*x + current_b))\n",
    "        m_gradient+= -(2/N) * x * ( y - (current_m*x + current_b))\n",
    "        \n",
    "    new_m = current_m - (learning_rate*m_gradient)\n",
    "    new_b = current_b - (learning_rate * b_gradient)\n",
    "    return [new_m, new_b]"
   ]
  },
  {
   "cell_type": "markdown",
   "metadata": {},
   "source": [
    "### Function for calculating gradient descent:"
   ]
  },
  {
   "cell_type": "code",
   "execution_count": 4,
   "metadata": {},
   "outputs": [],
   "source": [
    "\n",
    "def gradient_descent(bmi_life_data, initial_m, initial_b, learning_rate, num_iteration):\n",
    "    m = initial_m\n",
    "    b = initial_b\n",
    "    \n",
    "    for i in range(num_iteration):\n",
    "        m,b = step_gradient(m, b , bmi_life_data , learning_rate)\n",
    "    return [m,b]\n"
   ]
  },
  {
   "cell_type": "markdown",
   "metadata": {},
   "source": [
    "### Function for predicting life expectancies given array of BMIs:"
   ]
  },
  {
   "cell_type": "code",
   "execution_count": 5,
   "metadata": {},
   "outputs": [],
   "source": [
    "def predict(b,m, x):\n",
    "    return m*x + b"
   ]
  },
  {
   "cell_type": "markdown",
   "metadata": {},
   "source": [
    "## Numpy Implementation:\n",
    "\n"
   ]
  },
  {
   "cell_type": "code",
   "execution_count": 15,
   "metadata": {},
   "outputs": [],
   "source": [
    "def numpy_implementaion():\n",
    "    \n",
    "    bmi_life_data = pd.read_csv(\"bmi_and_life_expectancy.csv\")\n",
    "    initial_m = 0\n",
    "    initial_b = 0\n",
    "    num_iteration  =  2000\n",
    "    learning_rate = 0.0001\n",
    "    \n",
    "    print(\"Running gradient Descent:\")\n",
    "    print(\"Starting  with b = {}, m = {}, squared mean error = {}\".format(initial_b, initial_m, compute_squared_mean_error(initial_b, initial_m, bmi_life_data)))\n",
    "    [m,b] =  gradient_descent(bmi_life_data, initial_m, initial_b, learning_rate, num_iteration)\n",
    "    print(\"After running  {} iterations,  b = {}, m = {}, squared mean error = {}\".format(num_iteration, b, m, compute_squared_mean_error(b, m, bmi_life_data)))\n",
    "    predict_life_exp = predict(b, m , bmi_life_data[['BMI']].values)\n",
    "    plt.scatter(bmi_life_data[['BMI']][0:-20], bmi_life_data[['Life expectancy']][0:-20],  color='black')\n",
    "    plt.plot(bmi_life_data[['BMI']], predict_life_exp , color='b', label = \"numpy\",linewidth=3)\n",
    "    plt.xlabel(\"BMI\")\n",
    "    plt.ylabel(\"Life expectancy\")\n"
   ]
  },
  {
   "cell_type": "code",
   "execution_count": 16,
   "metadata": {},
   "outputs": [
    {
     "name": "stdout",
     "output_type": "stream",
     "text": [
      "Running gradient Descent:\n",
      "Starting  with b = 0, m = 0, squared mean error = 4933.661669325154\n",
      "After running  2000 iterations,  b = 0.13876479593524813, m = 2.8017217322127985, squared mean error = 43.4955045004907\n"
     ]
    },
    {
     "data": {
      "image/png": "[encoded data removed]",
      "text/plain": [
       "<Figure size 432x288 with 1 Axes>"
      ]
     },
     "metadata": {},
     "output_type": "display_data"
    }
   ],
   "source": [
    "numpy_implementaion()\n"
   ]
  },
  {
   "cell_type": "markdown",
   "metadata": {},
   "source": [
    "## Sklearn Implementation:"
   ]
  },
  {
   "cell_type": "code",
   "execution_count": 18,
   "metadata": {},
   "outputs": [],
   "source": [
    "def sklearn_implementation():\n",
    "    bmi_life_data = pd.read_csv(\"bmi_and_life_expectancy.csv\")\n",
    "    lr_model = linear_model.LinearRegression()\n",
    "    lr_model.fit(bmi_life_data[['BMI']][0:-20], bmi_life_data[['Life expectancy']][0:-20])\n",
    "    \n",
    "    predict_life_exp = lr_model.predict(bmi_life_data[['BMI']])\n",
    "    plt.scatter(bmi_life_data[['BMI']][0:-20], bmi_life_data[['Life expectancy']][0:-20],  color='black')\n",
    "    plt.plot(bmi_life_data[['BMI']], predict_life_exp , color='r', label = \"sklearn\",linewidth=3)\n",
    "    plt.xlabel(\"BMI\")\n",
    "    plt.ylabel(\"Life expectancy\")\n"
   ]
  },
  {
   "cell_type": "code",
   "execution_count": 19,
   "metadata": {},
   "outputs": [
    {
     "data": {
      "image/png": "[encoded data removed]",
      "text/plain": [
       "<Figure size 432x288 with 1 Axes>"
      ]
     },
     "metadata": {},
     "output_type": "display_data"
    }
   ],
   "source": [
    "sklearn_implementation()"
   ]
  },
  {
   "cell_type": "markdown",
   "metadata": {},
   "source": [
    "## Comparing Sklearn and Numpy Implemenation:"
   ]
  },
  {
   "cell_type": "code",
   "execution_count": 21,
   "metadata": {},
   "outputs": [
    {
     "name": "stdout",
     "output_type": "stream",
     "text": [
      "Running gradient Descent:\n",
      "Starting  with b = 0, m = 0, squared mean error = 4933.661669325154\n",
      "After running  2000 iterations,  b = 0.13876479593524813, m = 2.8017217322127985, squared mean error = 43.4955045004907\n"
     ]
    },
    {
     "data": {
      "image/png": "[encoded data removed]",
      "text/plain": [
       "<Figure size 432x288 with 1 Axes>"
      ]
     },
     "metadata": {},
     "output_type": "display_data"
    }
   ],
   "source": [
    "if __name__ == '__main__':\n",
    "    numpy_implementaion()\n",
    "    sklearn_implementation()\n",
    "    plt.legend()\n",
    "    plt.show()"
   ]
  }
 ],
 "metadata": {
  "kernelspec": {
   "display_name": "Python [conda env:regression]",
   "language": "python",
   "name": "conda-env-regression-py"
  },
  "language_info": {
   "codemirror_mode": {
    "name": "ipython",
    "version": 3
   },
   "file_extension": ".py",
   "mimetype": "text/x-python",
   "name": "python",
   "nbconvert_exporter": "python",
   "pygments_lexer": "ipython3",
   "version": "3.6.5"
  }
 },
 "nbformat": 4,
 "nbformat_minor": 2
}
